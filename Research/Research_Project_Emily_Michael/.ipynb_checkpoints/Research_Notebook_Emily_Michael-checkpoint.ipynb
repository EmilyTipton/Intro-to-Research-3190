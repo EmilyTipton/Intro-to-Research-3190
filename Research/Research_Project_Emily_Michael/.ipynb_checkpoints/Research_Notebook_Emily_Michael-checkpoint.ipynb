{
 "cells": [
  {
   "cell_type": "code",
   "execution_count": 1,
   "id": "f302693d",
   "metadata": {},
   "outputs": [],
   "source": [
    "import numpy as np\n",
    "from astropy.io import ascii #You need this to read in the data file from the paper\n",
    "import matplotlib.pyplot as plt #You need this to be able to plot!\n",
    "\n",
    "#This line is key if you want your plots to show up in the Jupyter notebook!\n",
    "%matplotlib inline"
   ]
  },
  {
   "cell_type": "code",
   "execution_count": 2,
   "id": "68f3d84a",
   "metadata": {},
   "outputs": [],
   "source": [
    "data = ascii.read('./data-Copy1.dat')"
   ]
  },
  {
   "cell_type": "code",
   "execution_count": 3,
   "id": "97903550",
   "metadata": {},
   "outputs": [
    {
     "data": {
      "text/html": [
       "<div><i>Table length=576801</i>\n",
       "<table id=\"table1914539701008\" class=\"table-striped table-bordered table-condensed\">\n",
       "<thead><tr><th>ra</th><th>dec</th><th>run</th><th>Ar</th><th>u</th><th>g</th><th>r</th><th>i</th><th>z</th><th>uErr</th><th>gErr</th><th>rErr</th><th>iErr</th><th>zErr</th><th>pmL</th><th>pmB</th><th>pmErr</th></tr></thead>\n",
       "<thead><tr><th>float64</th><th>float64</th><th>int32</th><th>float64</th><th>float64</th><th>float64</th><th>float64</th><th>float64</th><th>float64</th><th>float64</th><th>float64</th><th>float64</th><th>float64</th><th>float64</th><th>float64</th><th>float64</th><th>float64</th></tr></thead>\n",
       "<tr><td>181.6122</td><td>27.5726</td><td>5087</td><td>0.05</td><td>16.4</td><td>15.24</td><td>14.8</td><td>14.73</td><td>14.69</td><td>0.02</td><td>0.02</td><td>0.02</td><td>0.02</td><td>0.01</td><td>5.16</td><td>-1.45</td><td>2.72</td></tr>\n",
       "<tr><td>181.61303</td><td>27.6077</td><td>5087</td><td>0.05</td><td>21.84</td><td>19.55</td><td>18.4</td><td>18.04</td><td>17.79</td><td>0.18</td><td>0.02</td><td>0.02</td><td>0.02</td><td>0.02</td><td>5.48</td><td>4.73</td><td>3.16</td></tr>\n",
       "<tr><td>181.61416</td><td>27.35956</td><td>5112</td><td>0.05</td><td>19.76</td><td>17.56</td><td>16.61</td><td>16.23</td><td>16.07</td><td>0.03</td><td>0.01</td><td>0.02</td><td>0.03</td><td>0.03</td><td>3.14</td><td>7.92</td><td>2.79</td></tr>\n",
       "<tr><td>181.6164</td><td>27.82464</td><td>5112</td><td>0.06</td><td>21.73</td><td>20.63</td><td>20.19</td><td>19.99</td><td>20.04</td><td>0.16</td><td>0.03</td><td>0.03</td><td>0.03</td><td>0.13</td><td>19.13</td><td>-1.08</td><td>5.08</td></tr>\n",
       "<tr><td>181.62112</td><td>28.01623</td><td>5087</td><td>0.05</td><td>21.37</td><td>20.38</td><td>20.11</td><td>20.05</td><td>19.87</td><td>0.11</td><td>0.04</td><td>0.03</td><td>0.03</td><td>0.09</td><td>-3.65</td><td>-8.0</td><td>4.91</td></tr>\n",
       "<tr><td>181.62252</td><td>27.63987</td><td>5087</td><td>0.05</td><td>17.34</td><td>15.58</td><td>14.82</td><td>14.64</td><td>14.51</td><td>0.02</td><td>0.02</td><td>0.02</td><td>0.02</td><td>0.01</td><td>9.74</td><td>-10.64</td><td>2.72</td></tr>\n",
       "<tr><td>181.62469</td><td>27.32682</td><td>5112</td><td>0.05</td><td>21.63</td><td>20.52</td><td>20.21</td><td>20.1</td><td>19.91</td><td>0.13</td><td>0.02</td><td>0.03</td><td>0.04</td><td>1.07</td><td>6.73</td><td>-25.39</td><td>5.13</td></tr>\n",
       "<tr><td>181.62582</td><td>27.42162</td><td>5112</td><td>0.05</td><td>23.16</td><td>21.09</td><td>19.67</td><td>19.04</td><td>18.66</td><td>0.46</td><td>0.03</td><td>0.02</td><td>0.03</td><td>0.04</td><td>35.17</td><td>7.8</td><td>4.18</td></tr>\n",
       "<tr><td>181.63178</td><td>26.93836</td><td>5112</td><td>0.05</td><td>18.57</td><td>15.96</td><td>14.77</td><td>14.25</td><td>13.96</td><td>0.02</td><td>0.02</td><td>0.02</td><td>0.02</td><td>0.02</td><td>15.96</td><td>-8.01</td><td>2.72</td></tr>\n",
       "<tr><td>181.63364</td><td>27.24131</td><td>5087</td><td>0.06</td><td>20.9</td><td>18.78</td><td>17.8</td><td>17.38</td><td>17.06</td><td>0.08</td><td>0.03</td><td>0.02</td><td>0.02</td><td>0.02</td><td>2.03</td><td>-5.43</td><td>2.96</td></tr>\n",
       "<tr><td>...</td><td>...</td><td>...</td><td>...</td><td>...</td><td>...</td><td>...</td><td>...</td><td>...</td><td>...</td><td>...</td><td>...</td><td>...</td><td>...</td><td>...</td><td>...</td><td>...</td></tr>\n",
       "<tr><td>204.07163</td><td>28.33239</td><td>4649</td><td>0.04</td><td>25.37</td><td>22.19</td><td>20.9</td><td>20.12</td><td>19.66</td><td>0.9</td><td>0.09</td><td>0.04</td><td>0.03</td><td>0.08</td><td>999.99</td><td>999.99</td><td>999.99</td></tr>\n",
       "<tr><td>204.0717</td><td>27.9709</td><td>4649</td><td>0.04</td><td>23.69</td><td>22.27</td><td>20.99</td><td>19.79</td><td>18.99</td><td>1.08</td><td>0.11</td><td>0.05</td><td>0.03</td><td>0.05</td><td>999.99</td><td>999.99</td><td>999.99</td></tr>\n",
       "<tr><td>204.07202</td><td>26.99902</td><td>5115</td><td>0.04</td><td>22.49</td><td>20.48</td><td>19.0</td><td>18.08</td><td>17.53</td><td>0.27</td><td>0.03</td><td>0.02</td><td>0.02</td><td>0.03</td><td>999.99</td><td>999.99</td><td>999.99</td></tr>\n",
       "<tr><td>204.07942</td><td>27.83253</td><td>4649</td><td>0.04</td><td>22.48</td><td>19.9</td><td>18.54</td><td>17.32</td><td>16.59</td><td>0.43</td><td>0.03</td><td>0.01</td><td>0.02</td><td>0.02</td><td>999.99</td><td>999.99</td><td>999.99</td></tr>\n",
       "<tr><td>204.08073</td><td>27.6204</td><td>4646</td><td>0.04</td><td>22.78</td><td>20.64</td><td>19.22</td><td>18.4</td><td>17.96</td><td>0.45</td><td>0.04</td><td>0.02</td><td>0.02</td><td>0.03</td><td>999.99</td><td>999.99</td><td>999.99</td></tr>\n",
       "<tr><td>204.08155</td><td>27.41611</td><td>4649</td><td>0.03</td><td>23.45</td><td>22.23</td><td>20.88</td><td>19.58</td><td>18.86</td><td>0.8</td><td>0.13</td><td>0.04</td><td>0.03</td><td>0.04</td><td>999.99</td><td>999.99</td><td>999.99</td></tr>\n",
       "<tr><td>204.09136</td><td>27.57915</td><td>4646</td><td>0.03</td><td>23.05</td><td>22.22</td><td>20.67</td><td>19.51</td><td>18.98</td><td>0.58</td><td>0.12</td><td>0.04</td><td>0.03</td><td>0.05</td><td>999.99</td><td>999.99</td><td>999.99</td></tr>\n",
       "<tr><td>204.09455</td><td>27.85823</td><td>4649</td><td>0.04</td><td>23.63</td><td>20.6</td><td>19.12</td><td>17.7</td><td>16.87</td><td>1.06</td><td>0.04</td><td>0.02</td><td>0.02</td><td>0.02</td><td>999.99</td><td>999.99</td><td>999.99</td></tr>\n",
       "<tr><td>204.09851</td><td>28.014</td><td>4646</td><td>0.03</td><td>22.99</td><td>19.99</td><td>18.6</td><td>17.55</td><td>17.0</td><td>0.57</td><td>0.03</td><td>0.02</td><td>0.02</td><td>0.02</td><td>999.99</td><td>999.99</td><td>999.99</td></tr>\n",
       "<tr><td>204.10122</td><td>27.55673</td><td>4646</td><td>0.03</td><td>24.43</td><td>22.07</td><td>20.62</td><td>19.69</td><td>19.14</td><td>1.21</td><td>0.11</td><td>0.04</td><td>0.03</td><td>0.05</td><td>999.99</td><td>999.99</td><td>999.99</td></tr>\n",
       "</table></div>"
      ],
      "text/plain": [
       "<Table length=576801>\n",
       "    ra      dec     run     Ar      u    ...   zErr    pmL     pmB    pmErr \n",
       " float64  float64  int32 float64 float64 ... float64 float64 float64 float64\n",
       "--------- -------- ----- ------- ------- ... ------- ------- ------- -------\n",
       " 181.6122  27.5726  5087    0.05    16.4 ...    0.01    5.16   -1.45    2.72\n",
       "181.61303  27.6077  5087    0.05   21.84 ...    0.02    5.48    4.73    3.16\n",
       "181.61416 27.35956  5112    0.05   19.76 ...    0.03    3.14    7.92    2.79\n",
       " 181.6164 27.82464  5112    0.06   21.73 ...    0.13   19.13   -1.08    5.08\n",
       "181.62112 28.01623  5087    0.05   21.37 ...    0.09   -3.65    -8.0    4.91\n",
       "181.62252 27.63987  5087    0.05   17.34 ...    0.01    9.74  -10.64    2.72\n",
       "181.62469 27.32682  5112    0.05   21.63 ...    1.07    6.73  -25.39    5.13\n",
       "181.62582 27.42162  5112    0.05   23.16 ...    0.04   35.17     7.8    4.18\n",
       "181.63178 26.93836  5112    0.05   18.57 ...    0.02   15.96   -8.01    2.72\n",
       "181.63364 27.24131  5087    0.06    20.9 ...    0.02    2.03   -5.43    2.96\n",
       "      ...      ...   ...     ...     ... ...     ...     ...     ...     ...\n",
       "204.07163 28.33239  4649    0.04   25.37 ...    0.08  999.99  999.99  999.99\n",
       " 204.0717  27.9709  4649    0.04   23.69 ...    0.05  999.99  999.99  999.99\n",
       "204.07202 26.99902  5115    0.04   22.49 ...    0.03  999.99  999.99  999.99\n",
       "204.07942 27.83253  4649    0.04   22.48 ...    0.02  999.99  999.99  999.99\n",
       "204.08073  27.6204  4646    0.04   22.78 ...    0.03  999.99  999.99  999.99\n",
       "204.08155 27.41611  4649    0.03   23.45 ...    0.04  999.99  999.99  999.99\n",
       "204.09136 27.57915  4646    0.03   23.05 ...    0.05  999.99  999.99  999.99\n",
       "204.09455 27.85823  4649    0.04   23.63 ...    0.02  999.99  999.99  999.99\n",
       "204.09851   28.014  4646    0.03   22.99 ...    0.02  999.99  999.99  999.99\n",
       "204.10122 27.55673  4646    0.03   24.43 ...    0.05  999.99  999.99  999.99"
      ]
     },
     "execution_count": 3,
     "metadata": {},
     "output_type": "execute_result"
    }
   ],
   "source": [
    "data"
   ]
  },
  {
   "cell_type": "code",
   "execution_count": 4,
   "id": "8fca33a5",
   "metadata": {},
   "outputs": [
    {
     "name": "stdout",
     "output_type": "stream",
     "text": [
      "g-r: [0.44 1.15 0.95 0.44 0.27 0.76 0.31 1.42 1.19 0.98]\n",
      "Result: [-0.8191296  -0.6        -0.6        -1.0249488  -1.06648793 -0.6\n",
      " -0.57584997 -0.6        -0.6        -0.6       ]\n"
     ]
    }
   ],
   "source": [
    "x= np.array(data[\"u\"])-np.array(data[\"g\"]) #u minus g\n",
    "y= np.array(data[\"g\"])-np.array(data[\"r\"]) #g minus r\n",
    "#[Fe/H]\n",
    "def metallicity(x,y):\n",
    "    \"\"\"this function takes the u-g and g-r values and calculates the metallicity\"\"\"\n",
    "    \n",
    "    #Calculate the masks\n",
    "    result = np.copy(y);\n",
    "    mask = y < 0.6;\n",
    "    \n",
    "    #given values from pdf\n",
    "    a=-13.13\n",
    "    b=14.09\n",
    "    c=28.04\n",
    "    d=-5.51\n",
    "    e=-5.90\n",
    "    f=-58.68\n",
    "    g=9.14\n",
    "    h=-20.61\n",
    "    i=0.0\n",
    "    j=58.20\n",
    "    \n",
    "    result[mask]= a+b*x[mask]+c*y[mask]+d*x[mask]*y[mask]+e*(x[mask]**2)+f*(y[mask]**2)+g*(x[mask]**2)*y[mask]+h*x[mask]*(y[mask]**2)+i*(x[mask]**3)+j*(y[mask]**3)\n",
    "    \n",
    "    #Set all values greater than 0.6 to -0.6\n",
    "    result[np.invert(mask)] = -0.6                                                                                      \n",
    "        \n",
    "    return result\n",
    "\n",
    "result = metallicity(x,y)\n",
    "print(\"g-r:\", y[:10])\n",
    "print(\"Result:\", result[:10])"
   ]
  },
  {
   "cell_type": "code",
   "execution_count": 16,
   "id": "cd8622df",
   "metadata": {},
   "outputs": [
    {
     "ename": "IndexError",
     "evalue": "list index out of range",
     "output_type": "error",
     "traceback": [
      "\u001b[1;31m---------------------------------------------------------------------------\u001b[0m",
      "\u001b[1;31mIndexError\u001b[0m                                Traceback (most recent call last)",
      "Input \u001b[1;32mIn [16]\u001b[0m, in \u001b[0;36m<module>\u001b[1;34m\u001b[0m\n\u001b[1;32m----> 1\u001b[0m \u001b[43mmetallicity\u001b[49m\u001b[43m[\u001b[49m\u001b[38;5;241;43m0\u001b[39;49m\u001b[43m]\u001b[49m\n",
      "\u001b[1;31mIndexError\u001b[0m: list index out of range"
     ]
    }
   ],
   "source": [
    "metallicity[0]"
   ]
  },
  {
   "cell_type": "code",
   "execution_count": 5,
   "id": "856f28a3",
   "metadata": {},
   "outputs": [
    {
     "data": {
      "text/plain": [
       "array([5.28845866, 5.1012    , 5.1012    , ..., 5.1012    , 5.1012    ,\n",
       "       5.1012    ])"
      ]
     },
     "execution_count": 5,
     "metadata": {},
     "output_type": "execute_result"
    }
   ],
   "source": [
    "#A2\n",
    "def delta_magnitude(metallicity):\n",
    "    \"\"\"This is the function that takes metallicity to calculate magnitude V-r\"\"\"\n",
    "    \n",
    "    delta_mr= 4.50 -1.11*metallicity -0.18*metallicity**2\n",
    "    \n",
    "    return delta_mr\n",
    "\n",
    "delta_magnitude(result)"
   ]
  },
  {
   "cell_type": "code",
   "execution_count": 6,
   "id": "45835fa6",
   "metadata": {},
   "outputs": [
    {
     "data": {
      "text/plain": [
       "array([-0.39992303,  2.25743457,  1.89554651, ...,  7.04348138,\n",
       "        5.12221151,  4.88618184])"
      ]
     },
     "execution_count": 6,
     "metadata": {},
     "output_type": "execute_result"
    }
   ],
   "source": [
    "#A7\n",
    "g_minus_i = np.array(data[\"g\"])-np.array(data[\"i\"])\n",
    "def initial_m(g_minus_i):\n",
    "    \"\"\"Fifth order polynomial fit using g minus i input\"\"\"\n",
    "    m_initial=-5.06+14.32*(g_minus_i)-12.97*(g_minus_i)**2+6.127*(g_minus_i)**3-1.267*(g_minus_i)**4+0.0967*(g_minus_i)**5\n",
    "    \n",
    "    return m_initial\n",
    "\n",
    "initial_m(g_minus_i)"
   ]
  },
  {
   "cell_type": "code",
   "execution_count": 7,
   "id": "1ed75539",
   "metadata": {},
   "outputs": [
    {
     "data": {
      "text/plain": [
       "array([ 4.88853564,  7.35863457,  6.99674651, ..., 12.14468138,\n",
       "       10.22341151,  9.98738184])"
      ]
     },
     "execution_count": 7,
     "metadata": {},
     "output_type": "execute_result"
    }
   ],
   "source": [
    "#A3\n",
    "m_initial_gmi= initial_m(g_minus_i)\n",
    "delta_m= delta_magnitude(result)\n",
    "\n",
    "def absolute_magnitude(g_minus_i,metallicity):\n",
    "    \"\"\"Input delta magnitude and metallicity to calculate absolute magnitude\"\"\"\n",
    "    \n",
    "    abs_mag= initial_m(g_minus_i) + delta_magnitude(metallicity)\n",
    "    \n",
    "    return abs_mag\n",
    "\n",
    "absolute_magnitude(g_minus_i,result)\n"
   ]
  },
  {
   "cell_type": "code",
   "execution_count": 8,
   "id": "61eeb76a",
   "metadata": {},
   "outputs": [
    {
     "data": {
      "text/plain": [
       "array([ 960.04783539, 1615.37399051,  836.85593009, ...,  248.34974785,\n",
       "        473.49750882, 1338.20802884])"
      ]
     },
     "execution_count": 8,
     "metadata": {},
     "output_type": "execute_result"
    }
   ],
   "source": [
    "# Compute D\n",
    "r=np.array(data[\"r\"])\n",
    "M_r= absolute_magnitude(g_minus_i,result)\n",
    "r_minus_Mr= r - M_r\n",
    "def distance(r,M_r):\n",
    "    \"\"\"This function takes values of r and Mr to calculate the distance\"\"\"\n",
    "    \n",
    "    distance=10*10**(r_minus_Mr/5)\n",
    "    \n",
    "    return distance\n",
    "\n",
    "distance(r,M_r)    "
   ]
  },
  {
   "cell_type": "markdown",
   "id": "ba2d7b1f",
   "metadata": {},
   "source": [
    "## Problem 1"
   ]
  },
  {
   "cell_type": "code",
   "execution_count": 23,
   "id": "6e61f59b",
   "metadata": {},
   "outputs": [
    {
     "data": {
      "text/plain": [
       "0.011396300003634981"
      ]
     },
     "execution_count": 23,
     "metadata": {},
     "output_type": "execute_result"
    }
   ],
   "source": [
    "#Compute density from volume and number\n",
    "D = distance(r,M_r)\n",
    "def density(D, distance, delta):\n",
    "    \"\"\"Take the volume of a shell and the numbe of stars within the bin to compute the density\"\"\"\n",
    "    \n",
    "    volume= (314/41253)*4/3*np.pi*((delta + distance)**3 - distance**3)\n",
    "    \n",
    "    #Calculate the number of stars \n",
    "    numbers_mask= np.logical_and(D >= distance, D <= delta + distance)\n",
    "    number_stars= np.count_nonzero(numbers_mask)\n",
    "    \n",
    "    return number_stars/volume\n",
    "\n",
    "density(D, 500, 10)\n"
   ]
  },
  {
   "cell_type": "code",
   "execution_count": 35,
   "id": "c7214863",
   "metadata": {},
   "outputs": [
    {
     "name": "stderr",
     "output_type": "stream",
     "text": [
      "C:\\Users\\emily\\AppData\\Local\\Temp\\ipykernel_10492\\2181314737.py:14: RuntimeWarning: divide by zero encountered in log\n",
      "  nl_density.append(np.log(density(D[stars_mask], i, bin_width)))\n"
     ]
    },
    {
     "data": {
      "text/plain": [
       "Text(0.5, 1.0, 'Stellar Density vs Distance')"
      ]
     },
     "execution_count": 35,
     "metadata": {},
     "output_type": "execute_result"
    },
    {
     "data": {
      "image/png": "[encoded data removed]",
      "text/plain": [
       "<Figure size 432x288 with 1 Axes>"
      ]
     },
     "metadata": {
      "needs_background": "light"
     },
     "output_type": "display_data"
    }
   ],
   "source": [
    "#plot ln(density)\n",
    "y= np.array(data[\"g\"])-np.array(data[\"r\"]) #g minus r\n",
    "\n",
    "stars_mask = np.logical_and(y > 0.2, y < 0.4)\n",
    "\n",
    "initial = 0\n",
    "final = 30000\n",
    "bins = 100\n",
    "bin_width = ((final - initial)/ bins)\n",
    "points = np.linspace(initial, final, num = bins)\n",
    "\n",
    "nl_density = []\n",
    "for i in points:\n",
    "    nl_density.append(np.log(density(D[stars_mask], i, bin_width)))\n",
    "    \n",
    "plt.plot(points, nl_density, color = \"darkblue\")\n",
    "\n",
    "plt.xlabel('Distance[Pc]', fontsize = 16)\n",
    "plt.ylabel('ln(\\u03C1)', fontsize = 16)\n",
    "plt.title('Stellar Density vs Distance', fontweight='bold', fontsize=18)"
   ]
  },
  {
   "cell_type": "markdown",
   "id": "01cca443",
   "metadata": {},
   "source": [
    "## Problem 2"
   ]
  },
  {
   "cell_type": "code",
   "execution_count": 36,
   "id": "ccc39bbf",
   "metadata": {},
   "outputs": [
    {
     "name": "stderr",
     "output_type": "stream",
     "text": [
      "C:\\Users\\emily\\AppData\\Local\\Temp\\ipykernel_10492\\2746488162.py:19: RuntimeWarning: divide by zero encountered in log\n",
      "  nl_density[j][i] = np.log(density(D[masks[j]], points[i], bin_width))\n"
     ]
    },
    {
     "data": {
      "text/plain": [
       "<matplotlib.legend.Legend at 0x1bdd05b0610>"
      ]
     },
     "execution_count": 36,
     "metadata": {},
     "output_type": "execute_result"
    },
    {
     "data": {
      "image/png": "[encoded data removed]",
      "text/plain": [
       "<Figure size 432x288 with 1 Axes>"
      ]
     },
     "metadata": {
      "needs_background": "light"
     },
     "output_type": "display_data"
    }
   ],
   "source": [
    "#create masks for g-r ranges\n",
    "masks= []\n",
    "masks.append(np.logical_and(y > 0.2, y < 0.4))\n",
    "masks.append(np.logical_and(y > 0.4, y < 0.6))\n",
    "masks.append(np.logical_and(y > 0.6, y < 0.8))\n",
    "masks.append(np.logical_and(y> 0.8, y < 1.0)) \n",
    "\n",
    "#set boundaries\n",
    "initial = 0\n",
    "final = 20000\n",
    "bins = 100\n",
    "bin_width = ((final - initial)/ bins)\n",
    "points = np.linspace(initial, final, num = bins)\n",
    "\n",
    "#calculate ln(density) \n",
    "nl_density = np.zeros((len(masks), bins))\n",
    "for i in range(len(points)):\n",
    "    for j in range(len(masks)):\n",
    "        nl_density[j][i] = np.log(density(D[masks[j]], points[i], bin_width))\n",
    "        \n",
    "line_colors = [\"darkblue\", \"crimson\", \"violet\", \"purple\"]\n",
    "mask_labels = [\"0.2-0.4\", \"0.4-0.6\", \"0.6-0.8\", \"0.8-1.0\"]\n",
    "\n",
    "#plot\n",
    "for i in range(len(masks)):\n",
    "    plt.plot(points, nl_density[i], c = line_colors[i])\n",
    "\n",
    "#Set the axes labels and plot label\n",
    "plt.xlabel(\"Distance [pc]\", fontsize = 16)\n",
    "plt.ylabel(\"ln(\\u03C1)\", fontsize = 16)\n",
    "plt.title(\"Stellar density vs Distance\", fontweight= 'bold' , fontsize = 18)\n",
    "plt.legend(mask_labels)"
   ]
  },
  {
   "cell_type": "markdown",
   "id": "371a443f",
   "metadata": {},
   "source": [
    "## Problem 3 "
   ]
  },
  {
   "cell_type": "code",
   "execution_count": 32,
   "id": "c58bed06",
   "metadata": {},
   "outputs": [
    {
     "name": "stderr",
     "output_type": "stream",
     "text": [
      "C:\\Users\\emily\\AppData\\Local\\Temp\\ipykernel_10492\\900641059.py:18: RuntimeWarning: divide by zero encountered in log\n",
      "  nl_density[j][i] = np.log(density(D[metallicity_mask[j]], points[i], bin_width))\n"
     ]
    },
    {
     "data": {
      "text/plain": [
       "<matplotlib.legend.Legend at 0x1bdcf0d2bf0>"
      ]
     },
     "execution_count": 32,
     "metadata": {},
     "output_type": "execute_result"
    },
    {
     "data": {
      "image/png": "[encoded data removed]",
      "text/plain": [
       "<Figure size 432x288 with 1 Axes>"
      ]
     },
     "metadata": {
      "needs_background": "light"
     },
     "output_type": "display_data"
    }
   ],
   "source": [
    "metallicity_mask = []\n",
    "metallicity_mask.append(np.logical_and(masks[0], result < -1.0))\n",
    "metallicity_mask.append(np.logical_and(masks[0], result > -1.0))\n",
    "\n",
    "metallicity_mask_labels = [\"low metallicity\", \"high metallicity\"]\n",
    "metallicity_mask_colors = [\"darkblue\", \"violet\"]\n",
    "\n",
    "initial = 0\n",
    "final = 20000\n",
    "bins = 100\n",
    "bin_width = ((final - initial)/ bins)\n",
    "points = np.linspace(initial, final, num = bins)\n",
    "\n",
    "#calculate ln(density) \n",
    "nl_density = np.zeros((len(metallicity_mask), bins))\n",
    "for i in range(len(points)):\n",
    "    for j in range(len(metallicity_mask)):\n",
    "        nl_density[j][i] = np.log(density(D[metallicity_mask[j]], points[i], bin_width))\n",
    "        \n",
    "#plot\n",
    "for i in range(len(metallicity_mask)):\n",
    "    plt.plot(points, nl_density[i], c = metallicity_mask_colors[i])\n",
    "\n",
    "plt.xlabel('Distance[Pc]', fontsize = 16)\n",
    "plt.ylabel('ln(\\u03C1)', fontsize = 16)\n",
    "plt.title('Stellar Density vs Distance', fontweight='bold', fontsize=18)\n",
    "plt.legend(metallicity_mask_labels)"
   ]
  },
  {
   "cell_type": "markdown",
   "id": "85def32a",
   "metadata": {},
   "source": [
    "## Problem 4"
   ]
  },
  {
   "cell_type": "code",
   "execution_count": null,
   "id": "7030866c",
   "metadata": {},
   "outputs": [],
   "source": [
    "M_r= absolute_magnitude(g_minus_i,result)\n",
    "\n"
   ]
  }
 ],
 "metadata": {
  "kernelspec": {
   "display_name": "Python 3 (ipykernel)",
   "language": "python",
   "name": "python3"
  },
  "language_info": {
   "codemirror_mode": {
    "name": "ipython",
    "version": 3
   },
   "file_extension": ".py",
   "mimetype": "text/x-python",
   "name": "python",
   "nbconvert_exporter": "python",
   "pygments_lexer": "ipython3",
   "version": "3.10.2"
  }
 },
 "nbformat": 4,
 "nbformat_minor": 5
}
