{
 "cells": [
  {
   "cell_type": "markdown",
   "metadata": {},
   "source": [
    "# Extra Plotting Practice: Creating Colour-Magnitude Diagram #\n",
    "\n",
    "## Essential Background Information ##\n",
    "\n",
    "The Hertzsprung-Russell (HR) diagram plots a star's luminosity (or brightness) on the y-axis and its temperature on the x-axis. Astronomers use HR diagrams to classify stars; different types of stars clump together on the HR diagram. You saw the HR diagram in the last example of Lesson 6: Plotting Jupyter Notebook. That HR diagram was an *idealized* representation of distinct groupings of stars, e.g., the Main Sequence, the Horizonal Branch, the Red Giant Branch, etc. So waht about in practice? What does a HR diagram look like with real observational data?\n",
    "\n",
    "<img src=\"images/hr.png\">\n",
    "\n",
    "When astronomers make an HR diagram based off of real data in the night sky, they call it the \"observer's HR diagram\" or **the Color-Magnitude Diagram (CMD)**. This is because instead of luminosity and temperature on the y and x axes, respectively, observers plot the apparent brightness of a star vs. its color. Side note on color for those of you not taking ASTR 101 or 102: color is the difference between a star's brightness in two different color ranges. It is a numerical way to represent actual *colors*. Typically, observers use the B, V, R, I (blue, visible/green, red, infrared) bandpasses, and so will plot V mag vs. B-I mag. \n",
    "\n",
    "To make an HR diagram based off of real observations, we point our telescopes at *stars in stellar clusters* and *observe their brightness in various bandpasses*. There are several reasons why we do this:\n",
    "\n",
    "1) Looking at a stellar cluster ensures that our observer's HR diagram won't have just 10 lonely stars in it, but rather fill the whole parameter space.\n",
    "\n",
    "2) If you observe the apparent brightnesses of stars in the same stellar cluster, they are roughly at the same distance, which means you can compare the brightness of the stars relative to each other in the cluster, no problem. \n",
    "\n",
    "3) Observing the brightnesses of stars in multiple bandpasses or filters allow us to estimate their temperatures. Stars that are hotter will be bluer so they will be brighter in bluer bandpasses relative to redder bandpasses. Stars that are cooler will be redder, so they will be brighter in redder bandpasses relative to blue. For this reason, the relative brightness of an astronomical object between two bandpasses (or the difference in magnitude) is called \"color\". \n",
    "\n",
    "The stellar cluster CMD technique is a powerful tool because it simultaneously tells you the **age** of the cluster and **distance** to that cluster! An \"observed\" HR diagram, or CMD will look different from the idealized HR diagram from Lesson 6! Consider this: stars in the same cluster will have the same age (and composition), since they were born out of the same molecular cloud at the same time. However, because more massive stars fuse hydrogen faster, they evolve off the main sequence faster, and consequently an *older* stellar cluster will have *fewer* massive stars still in the main sequence phase. As the cluster ages, more and more low-mass stars will evolve off the main sequence, and this \"turn-off\" from the main sequence track is called... **\"the main sequence turn off\" (MSTO)**. You can see this effect in the image below. Each panel depicts a snapshot of a stellar cluster at a particular age ($t=0$ when cluster is just born), and shaded region = main sequence.\n",
    "\n",
    "<img src=\"http://pages.uoregon.edu/jimbrau/BrauImNew/Chap20/8th/20_17_Figure_Unanno.jpg\">\n",
    "\n",
    "You can read more about CMDs [here](https://web.njit.edu/~gary/202/Lecture17.html) (optional).\n",
    "\n",
    "## What You Need To Do ##\n",
    "In this exercise, you will create a CMD based off real data of the [M15 cluster](https://en.wikipedia.org/wiki/Messier_15) astronomers collected! Make sure to **comment your code**.\n",
    "\n",
    "### First, you will read in the ascii data file that contains the B, V, and I magnitudes of stars. ### \n",
    "\n",
    "The data file you need is already in your PreMAP2019 directory (`data/m15.tsv`). Read it in using functions you learned in Lesson 6. Note the file `m15.tsv` has ;-separated values, so when you apply the function you will have to specify keyword argument `delimiter=';'`.\n"
   ]
  },
  {
   "cell_type": "code",
   "execution_count": 1,
   "metadata": {},
   "outputs": [],
   "source": [
    "#Copy import statement from notebook 06\n",
    "import matplotlib.pyplot as plt\n",
    "\n",
    "# We'll also read some data using astropy, so let's import that\n",
    "import numpy as np \n",
    "from astropy.io import ascii\n",
    "\n",
    "# I'm also using this \"magic\" function to make my plots appear in this notebook\n",
    "# Only do this when working with Jupyter notebooks\n",
    "%matplotlib inline"
   ]
  },
  {
   "cell_type": "code",
   "execution_count": 2,
   "metadata": {},
   "outputs": [
    {
     "data": {
      "text/html": [
       "<div><i>Table length=3</i>\n",
       "<table id=\"table2360011366816\" class=\"table-striped table-bordered table-condensed\">\n",
       "<thead><tr><th>_RAJ2000</th><th>_DEJ2000</th><th>ID</th><th>Bmag</th><th>e_Bmag</th><th>Vmag</th><th>e_Vmag</th><th>Imag</th><th>e_Imag</th></tr></thead>\n",
       "<thead><tr><th>float64</th><th>float64</th><th>int32</th><th>float64</th><th>float64</th><th>float64</th><th>float64</th><th>float64</th><th>float64</th></tr></thead>\n",
       "<tr><td>322.65333</td><td>12.12536</td><td>2</td><td>19.514</td><td>0.005</td><td>19.021</td><td>0.007</td><td>18.411</td><td>0.01</td></tr>\n",
       "<tr><td>322.65271</td><td>12.04764</td><td>4</td><td>19.382</td><td>0.005</td><td>17.96</td><td>0.004</td><td>16.507</td><td>0.004</td></tr>\n",
       "<tr><td>322.65312</td><td>12.16878</td><td>6</td><td>20.279</td><td>0.009</td><td>19.763</td><td>0.011</td><td>19.114</td><td>0.014</td></tr>\n",
       "</table></div>"
      ],
      "text/plain": [
       "<Table length=3>\n",
       " _RAJ2000 _DEJ2000   ID    Bmag   e_Bmag   Vmag   e_Vmag   Imag   e_Imag\n",
       " float64  float64  int32 float64 float64 float64 float64 float64 float64\n",
       "--------- -------- ----- ------- ------- ------- ------- ------- -------\n",
       "322.65333 12.12536     2  19.514   0.005  19.021   0.007  18.411    0.01\n",
       "322.65271 12.04764     4  19.382   0.005   17.96   0.004  16.507   0.004\n",
       "322.65312 12.16878     6  20.279   0.009  19.763   0.011  19.114   0.014"
      ]
     },
     "execution_count": 2,
     "metadata": {},
     "output_type": "execute_result"
    }
   ],
   "source": [
    "# Write code to read in the contents of the ascii file here\n",
    "#Read in data file using astropy.ascii with delimiter=;\n",
    "#read in using same syntax we used to import galaxy table in notebook 06\n",
    "m15 = ascii.read('data/m15.tsv',delimiter=';') \n",
    "\n",
    "#Add in the delimiter: this is the character that separates values in different columns of the table\n",
    "#If you are unsure what the delimiter should be, you can open the file (in the ./data/ folder) and see!\n",
    "m15[:3] #check out the first three lines of the table to see column names\n",
    "\n",
    "\n",
    "# Don't forget to comment code! "
   ]
  },
  {
   "cell_type": "markdown",
   "metadata": {},
   "source": [
    "### Next, make a plot with B-I colour on the x-axis, and V magnitude on the y-axis. ###\n",
    "\n",
    "Make sure you give the proper x, y axis labels (with units), and make sure the limits of the y-axis is correct (remember the bigger the magnitude, the fainter an object)."
   ]
  },
  {
   "cell_type": "code",
   "execution_count": 6,
   "metadata": {},
   "outputs": [
    {
     "ename": "KeyError",
     "evalue": "'col4'",
     "output_type": "error",
     "traceback": [
      "\u001b[1;31m---------------------------------------------------------------------------\u001b[0m",
      "\u001b[1;31mKeyError\u001b[0m                                  Traceback (most recent call last)",
      "Input \u001b[1;32mIn [6]\u001b[0m, in \u001b[0;36m<module>\u001b[1;34m\u001b[0m\n\u001b[0;32m      5\u001b[0m plt\u001b[38;5;241m.\u001b[39mfigure(figsize\u001b[38;5;241m=\u001b[39m(\u001b[38;5;241m10\u001b[39m,\u001b[38;5;241m10\u001b[39m))\n\u001b[0;32m      7\u001b[0m \u001b[38;5;66;03m#Plot B-I as the x value and V as the y value. Give '.' to plot as points not connected with lines.\u001b[39;00m\n\u001b[1;32m----> 8\u001b[0m x\u001b[38;5;241m=\u001b[39m\u001b[43mm15\u001b[49m\u001b[43m[\u001b[49m\u001b[38;5;124;43m'\u001b[39;49m\u001b[38;5;124;43mcol4\u001b[39;49m\u001b[38;5;124;43m'\u001b[39;49m\u001b[43m]\u001b[49m\n\u001b[0;32m      9\u001b[0m y\u001b[38;5;241m=\u001b[39mm15[\u001b[38;5;124m'\u001b[39m\u001b[38;5;124mcol6\u001b[39m\u001b[38;5;124m'\u001b[39m]\n\u001b[0;32m     10\u001b[0m \u001b[38;5;66;03m#Adjust markersize and make points translucent with alpha=0.5 so you can see where the points pile up\u001b[39;00m\n",
      "File \u001b[1;32m~\\AppData\\Local\\Programs\\Python\\Python310\\lib\\site-packages\\astropy\\table\\table.py:1882\u001b[0m, in \u001b[0;36mTable.__getitem__\u001b[1;34m(self, item)\u001b[0m\n\u001b[0;32m   1880\u001b[0m \u001b[38;5;28;01mdef\u001b[39;00m \u001b[38;5;21m__getitem__\u001b[39m(\u001b[38;5;28mself\u001b[39m, item):\n\u001b[0;32m   1881\u001b[0m     \u001b[38;5;28;01mif\u001b[39;00m \u001b[38;5;28misinstance\u001b[39m(item, \u001b[38;5;28mstr\u001b[39m):\n\u001b[1;32m-> 1882\u001b[0m         \u001b[38;5;28;01mreturn\u001b[39;00m \u001b[38;5;28;43mself\u001b[39;49m\u001b[38;5;241;43m.\u001b[39;49m\u001b[43mcolumns\u001b[49m\u001b[43m[\u001b[49m\u001b[43mitem\u001b[49m\u001b[43m]\u001b[49m\n\u001b[0;32m   1883\u001b[0m     \u001b[38;5;28;01melif\u001b[39;00m \u001b[38;5;28misinstance\u001b[39m(item, (\u001b[38;5;28mint\u001b[39m, np\u001b[38;5;241m.\u001b[39minteger)):\n\u001b[0;32m   1884\u001b[0m         \u001b[38;5;28;01mreturn\u001b[39;00m \u001b[38;5;28mself\u001b[39m\u001b[38;5;241m.\u001b[39mRow(\u001b[38;5;28mself\u001b[39m, item)\n",
      "File \u001b[1;32m~\\AppData\\Local\\Programs\\Python\\Python310\\lib\\site-packages\\astropy\\table\\table.py:247\u001b[0m, in \u001b[0;36mTableColumns.__getitem__\u001b[1;34m(self, item)\u001b[0m\n\u001b[0;32m    237\u001b[0m \u001b[38;5;124;03m\"\"\"Get items from a TableColumns object.\u001b[39;00m\n\u001b[0;32m    238\u001b[0m \u001b[38;5;124;03m::\u001b[39;00m\n\u001b[0;32m    239\u001b[0m \n\u001b[1;32m   (...)\u001b[0m\n\u001b[0;32m    244\u001b[0m \u001b[38;5;124;03m  tc[1:3] # <TableColumns names=('b', 'c')>\u001b[39;00m\n\u001b[0;32m    245\u001b[0m \u001b[38;5;124;03m\"\"\"\u001b[39;00m\n\u001b[0;32m    246\u001b[0m \u001b[38;5;28;01mif\u001b[39;00m \u001b[38;5;28misinstance\u001b[39m(item, \u001b[38;5;28mstr\u001b[39m):\n\u001b[1;32m--> 247\u001b[0m     \u001b[38;5;28;01mreturn\u001b[39;00m \u001b[43mOrderedDict\u001b[49m\u001b[38;5;241;43m.\u001b[39;49m\u001b[38;5;21;43m__getitem__\u001b[39;49m\u001b[43m(\u001b[49m\u001b[38;5;28;43mself\u001b[39;49m\u001b[43m,\u001b[49m\u001b[43m \u001b[49m\u001b[43mitem\u001b[49m\u001b[43m)\u001b[49m\n\u001b[0;32m    248\u001b[0m \u001b[38;5;28;01melif\u001b[39;00m \u001b[38;5;28misinstance\u001b[39m(item, (\u001b[38;5;28mint\u001b[39m, np\u001b[38;5;241m.\u001b[39minteger)):\n\u001b[0;32m    249\u001b[0m     \u001b[38;5;28;01mreturn\u001b[39;00m \u001b[38;5;28mlist\u001b[39m(\u001b[38;5;28mself\u001b[39m\u001b[38;5;241m.\u001b[39mvalues())[item]\n",
      "\u001b[1;31mKeyError\u001b[0m: 'col4'"
     ]
    },
    {
     "data": {
      "text/plain": [
       "<Figure size 720x720 with 0 Axes>"
      ]
     },
     "metadata": {},
     "output_type": "display_data"
    }
   ],
   "source": [
    "# Write code to make & prettify the plot, use either plt.plot or plt.scatter\n",
    "\n",
    "#Make plot larger to make it easier to see.\n",
    "#Note: you need to run this command before your plotting commands!\n",
    "plt.figure(figsize=(10,10))\n",
    "\n",
    "#Plot B-I as the x value and V as the y value. Give '.' to plot as points not connected with lines.\n",
    "x=m15['col4']\n",
    "y=m15['col6']\n",
    "#Adjust markersize and make points translucent with alpha=0.5 so you can see where the points pile up\n",
    "plt.plot(x,y, '.', edgecolor = 'None', alpha=0.5, s=10)\n",
    "\n",
    "#Flip y-axis so that you're plotting Vmag from fainter (bigger mag value) to brighter (smaller mag value)\n",
    "invert_yaxis()\n",
    "\n",
    "#Add axis labels:\n",
    "plt.xlabel('B-I [color]',fontweight='bold', fontsize=14)\n",
    "plt.ylabel('V [apparent magnitude]',fontweight='bold',fontsize=14)\n",
    "\n",
    "#Make numbers on axes larger to make plot easier to read\n",
    "plt.xticks(range(-180,210,60),fontsize=16,fontweight='bold')\n",
    "plt.yticks(range(-90,120,30),fontsize=16,fontweight='bold')\n",
    "\n",
    "#Add background grid lines\n",
    "plt.grid()\n",
    "# Don't forget to comment code!"
   ]
  },
  {
   "cell_type": "markdown",
   "metadata": {},
   "source": [
    "### Finally, let's interpret the pretty plot you've made! ###\n",
    "\n",
    "\n",
    "1) Locate at least 3 \"groups\" of stars in your CMD and label them accordingly.  \n",
    "\n",
    "2) Based on your CMD, is M15 an old cluster or young cluster... how did you come to this conclusion? \n",
    "\n",
    "3) Why are there so many data points that are scattered everywhere, and don't look like they belong in the idealized HR diagram?"
   ]
  },
  {
   "cell_type": "code",
   "execution_count": 4,
   "metadata": {},
   "outputs": [],
   "source": [
    "# Copy and paste your plotting code, and modify it to address question 1.\n"
   ]
  },
  {
   "cell_type": "code",
   "execution_count": null,
   "metadata": {},
   "outputs": [],
   "source": [
    "# Answer questions 2 and 3 here"
   ]
  }
 ],
 "metadata": {
  "kernelspec": {
   "display_name": "Python 3 (ipykernel)",
   "language": "python",
   "name": "python3"
  },
  "language_info": {
   "codemirror_mode": {
    "name": "ipython",
    "version": 3
   },
   "file_extension": ".py",
   "mimetype": "text/x-python",
   "name": "python",
   "nbconvert_exporter": "python",
   "pygments_lexer": "ipython3",
   "version": "3.10.2"
  }
 },
 "nbformat": 4,
 "nbformat_minor": 1
}
