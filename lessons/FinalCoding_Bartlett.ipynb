{
 "cells": [
  {
   "cell_type": "markdown",
   "metadata": {},
   "source": [
    "**<font color='red'>Change the name from assignment_lastname to include YOUR last name</font>**. This will make sure that the assignment doesn't get overwritten when you do a git pull in class. "
   ]
  },
  {
   "cell_type": "markdown",
   "metadata": {},
   "source": [
    "# Homework 5B - the coding portion"
   ]
  },
  {
   "cell_type": "markdown",
   "metadata": {},
   "source": [
    "## Due: Monday, April 19th"
   ]
  },
  {
   "cell_type": "markdown",
   "metadata": {},
   "source": [
    "Skills: Plotting, reading in data files"
   ]
  },
  {
   "cell_type": "markdown",
   "metadata": {},
   "source": [
    "Turn in instructions:\n",
    "1. Before turning in your notebook, make sure you save it first using the floppy disk save icon or File -> save.\n",
    "2. To turn in your assignment, you need to “git push” your assignment to your github using the following commands. You’ll need to be inside the PreMAPOG directory for this to work. (Not in your home directory.)\n",
    "3. Email me to let me know you've finished with a link to your github repository.\n",
    "```\n",
    "git add *\n",
    "git commit -m “<Include a message inside quotes: i.e. Finished HW 5B>”\n",
    "git push\n",
    "```"
   ]
  },
  {
   "cell_type": "markdown",
   "metadata": {},
   "source": [
    "Always start with your import statement!"
   ]
  },
  {
   "cell_type": "code",
   "execution_count": 2,
   "metadata": {},
   "outputs": [],
   "source": [
    "import numpy as np\n",
    "from astropy.io import ascii #You need this to read in the data file from the paper\n",
    "import matplotlib.pyplot as plt #You need this to be able to plot!\n",
    "\n",
    "#This line is key if you want your plots to show up in the Jupyter notebook!\n",
    "%matplotlib inline"
   ]
  },
  {
   "cell_type": "markdown",
   "metadata": {},
   "source": [
    "### For your last coding homework, you will be reading in a data file from this [paper](https://arxiv.org/pdf/1707.01097.pdf) of homework 6 and working to recreate some of the plots in Figure 1. Please refer back to the notebook we worked on in class with plotting examples!"
   ]
  },
  {
   "cell_type": "markdown",
   "metadata": {},
   "source": [
    "Read in the data file that was used to create the plots in Figure 1:"
   ]
  },
  {
   "cell_type": "code",
   "execution_count": 4,
   "metadata": {},
   "outputs": [],
   "source": [
    "data = ascii.read('../homework/data/terrazas.txt',format='tab')"
   ]
  },
  {
   "cell_type": "markdown",
   "metadata": {},
   "source": [
    "To check out what your data file looks like, you can execute the cell below to see the first three lines. Play around the try to display the first ten lines, lines 20-30, and the last three lines (*Hint: to display the last line, you would type data[:-1]* )"
   ]
  },
  {
   "cell_type": "code",
   "execution_count": 12,
   "metadata": {},
   "outputs": [
    {
     "data": {
      "text/html": [
       "<div><i>Table length=3</i>\n",
       "<table id=\"table2456937583568\" class=\"table-striped table-bordered table-condensed\">\n",
       "<thead><tr><th>Name</th><th>M_*</th><th>SFR</th><th>M_BH</th><th>MBH Error</th><th>Method</th></tr></thead>\n",
       "<thead><tr><th>str11</th><th>float64</th><th>float64</th><th>float64</th><th>float64</th><th>str9</th></tr></thead>\n",
       "<tr><td>NGC 4742</td><td>10.226</td><td>-1.175</td><td>7.1</td><td>0.15</td><td>star</td></tr>\n",
       "<tr><td>NGC 5495</td><td>11.392</td><td>0.963</td><td>7.08</td><td>0.3</td><td>maser</td></tr>\n",
       "<tr><td>NGC 7332</td><td>10.656</td><td>-1.279</td><td>7.08</td><td>0.18</td><td>star</td></tr>\n",
       "</table></div>"
      ],
      "text/plain": [
       "<Table length=3>\n",
       "  Name     M_*     SFR     M_BH  MBH Error Method\n",
       " str11   float64 float64 float64  float64   str9 \n",
       "-------- ------- ------- ------- --------- ------\n",
       "NGC 4742  10.226  -1.175     7.1      0.15   star\n",
       "NGC 5495  11.392   0.963    7.08       0.3  maser\n",
       "NGC 7332  10.656  -1.279    7.08      0.18   star"
      ]
     },
     "execution_count": 12,
     "metadata": {},
     "output_type": "execute_result"
    }
   ],
   "source": [
    "#Display first three lines\n",
    "#data[:3]\n",
    "#Display lines 20-30\n",
    "#data[20:30]\n",
    "#Display the last three lines\n",
    "data[-3:]"
   ]
  },
  {
   "cell_type": "markdown",
   "metadata": {},
   "source": [
    "To work with individual columns from a data table, you can call them by their names. Execute the cell below to check out only the `'Name'` column from the data table."
   ]
  },
  {
   "cell_type": "code",
   "execution_count": 13,
   "metadata": {},
   "outputs": [
    {
     "data": {
      "text/html": [
       "&lt;Column name=&apos;Name&apos; dtype=&apos;str11&apos; length=90&gt;\n",
       "<table>\n",
       "<tr><td>Centaurus A</td></tr>\n",
       "<tr><td>Circinus</td></tr>\n",
       "<tr><td>IC 1459</td></tr>\n",
       "<tr><td>IC 4296</td></tr>\n",
       "<tr><td>M31</td></tr>\n",
       "<tr><td>M66</td></tr>\n",
       "<tr><td>M81</td></tr>\n",
       "<tr><td>M87</td></tr>\n",
       "<tr><td>NGC 0307</td></tr>\n",
       "<tr><td>NGC 0524</td></tr>\n",
       "<tr><td>NGC 0821</td></tr>\n",
       "<tr><td>NGC 1023</td></tr>\n",
       "<tr><td>...</td></tr>\n",
       "<tr><td>NGC 5548</td></tr>\n",
       "<tr><td>NGC 5765b</td></tr>\n",
       "<tr><td>NGC 6814</td></tr>\n",
       "<tr><td>NGC 7469</td></tr>\n",
       "<tr><td>NGC 1097</td></tr>\n",
       "<tr><td>NGC 1275</td></tr>\n",
       "<tr><td>NGC 3665</td></tr>\n",
       "<tr><td>NGC 3706</td></tr>\n",
       "<tr><td>NGC 4303</td></tr>\n",
       "<tr><td>NGC 4742</td></tr>\n",
       "<tr><td>NGC 5495</td></tr>\n",
       "<tr><td>NGC 7332</td></tr>\n",
       "</table>"
      ],
      "text/plain": [
       "<Column name='Name' dtype='str11' length=90>\n",
       "Centaurus A\n",
       "   Circinus\n",
       "    IC 1459\n",
       "    IC 4296\n",
       "        M31\n",
       "        M66\n",
       "        M81\n",
       "        M87\n",
       "   NGC 0307\n",
       "   NGC 0524\n",
       "   NGC 0821\n",
       "   NGC 1023\n",
       "        ...\n",
       "   NGC 5548\n",
       "  NGC 5765b\n",
       "   NGC 6814\n",
       "   NGC 7469\n",
       "   NGC 1097\n",
       "   NGC 1275\n",
       "   NGC 3665\n",
       "   NGC 3706\n",
       "   NGC 4303\n",
       "   NGC 4742\n",
       "   NGC 5495\n",
       "   NGC 7332"
      ]
     },
     "execution_count": 13,
     "metadata": {},
     "output_type": "execute_result"
    }
   ],
   "source": [
    "data['Name']"
   ]
  },
  {
   "cell_type": "markdown",
   "metadata": {},
   "source": [
    "**1)** Display only the **last** 10 lines of the `'M_BH'` column."
   ]
  },
  {
   "cell_type": "code",
   "execution_count": 18,
   "metadata": {},
   "outputs": [
    {
     "data": {
      "text/html": [
       "&lt;Column name=&apos;M_BH&apos; dtype=&apos;float64&apos; length=10&gt;\n",
       "<table>\n",
       "<tr><td>7.02</td></tr>\n",
       "<tr><td>6.94</td></tr>\n",
       "<tr><td>8.14</td></tr>\n",
       "<tr><td>8.98</td></tr>\n",
       "<tr><td>8.76</td></tr>\n",
       "<tr><td>9.77</td></tr>\n",
       "<tr><td>6.51</td></tr>\n",
       "<tr><td>7.1</td></tr>\n",
       "<tr><td>7.08</td></tr>\n",
       "<tr><td>7.08</td></tr>\n",
       "</table>"
      ],
      "text/plain": [
       "<Column name='M_BH' dtype='float64' length=10>\n",
       "7.02\n",
       "6.94\n",
       "8.14\n",
       "8.98\n",
       "8.76\n",
       "9.77\n",
       "6.51\n",
       " 7.1\n",
       "7.08\n",
       "7.08"
      ]
     },
     "execution_count": 18,
     "metadata": {},
     "output_type": "execute_result"
    }
   ],
   "source": [
    "data[\"M_BH\"][-10:]"
   ]
  },
  {
   "cell_type": "markdown",
   "metadata": {},
   "source": [
    "**2)** In the cell below, complete the `ax.scatter` command to make a scatter plot of the stellar mass `'M_*'` and the star formation rate `'SFR'`."
   ]
  },
  {
   "cell_type": "code",
   "execution_count": 19,
   "metadata": {},
   "outputs": [
    {
     "data": {
      "text/plain": [
       "<matplotlib.collections.PathCollection at 0x23c0e91fe50>"
      ]
     },
     "execution_count": 19,
     "metadata": {},
     "output_type": "execute_result"
    },
    {
     "data": {
      "image/png": "[encoded data removed]",
      "text/plain": [
       "<Figure size 504x504 with 1 Axes>"
      ]
     },
     "metadata": {
      "needs_background": "light"
     },
     "output_type": "display_data"
    }
   ],
   "source": [
    "fig, ax = plt.subplots(figsize=(7,7))\n",
    "ax.scatter(data[\"M_*\"],data[\"SFR\"])"
   ]
  },
  {
   "cell_type": "markdown",
   "metadata": {},
   "source": [
    "**3)** Copy your code to create the scatter plot from the previous question and add X and Y axis labels. Increase the font size of your axis labels to size 18."
   ]
  },
  {
   "cell_type": "code",
   "execution_count": 63,
   "metadata": {},
   "outputs": [
    {
     "data": {
      "text/plain": [
       "Text(0, 0.5, 'Star Formation Rate')"
      ]
     },
     "execution_count": 63,
     "metadata": {},
     "output_type": "execute_result"
    },
    {
     "data": {
      "image/png": "[encoded data removed]",
      "text/plain": [
       "<Figure size 504x504 with 1 Axes>"
      ]
     },
     "metadata": {
      "needs_background": "light"
     },
     "output_type": "display_data"
    }
   ],
   "source": [
    "#Plot stellar mass vs star formation rate\n",
    "fig, ax = plt.subplots(figsize=(7,7))\n",
    "ax.scatter(data[\"M_*\"],data[\"SFR\"])\n",
    "\n",
    "#Add axis labes\n",
    "ax.set_xlabel(\"Stellar Mass\", fontsize = 18)\n",
    "ax.set_ylabel(\"Star Formation Rate\", fontsize = 18)"
   ]
  },
  {
   "cell_type": "markdown",
   "metadata": {},
   "source": [
    "**4)** You can also make scatter plots with the `plot` command. Figure out how to make a scatter plot that looks like the one you made with `scatter` using the `plot` command. I suggest checking out this [plot gallery](https://matplotlib.org/2.1.1/gallery/index.html) from the `matplotlib` creators. If you click a plot, you will see code that shows how the plot was made. There is a nice scatter plot on the top row that was made with the `plot` command. There are a ton of these plot galleries online and it is a great way to figure out how to make a new plot!"
   ]
  },
  {
   "cell_type": "code",
   "execution_count": 64,
   "metadata": {},
   "outputs": [
    {
     "data": {
      "text/plain": [
       "Text(0, 0.5, 'Star Formation Rate')"
      ]
     },
     "execution_count": 64,
     "metadata": {},
     "output_type": "execute_result"
    },
    {
     "data": {
      "image/png": "[encoded data removed]",
      "text/plain": [
       "<Figure size 504x504 with 1 Axes>"
      ]
     },
     "metadata": {
      "needs_background": "light"
     },
     "output_type": "display_data"
    }
   ],
   "source": [
    "fig, ax = plt.subplots(figsize=(7,7))\n",
    "ax.plot(data[\"M_*\"], data[\"SFR\"], 'o') \n",
    "#Hint: you'll need one more item inside the function call to get points instead of lines. \n",
    "#Check out the last item in the function call in the example in the plot gallery linked above\n",
    "\n",
    "#Add axis labes\n",
    "ax.set_xlabel(\"Stellar Mass\", fontsize = 18)\n",
    "ax.set_ylabel(\"Star Formation Rate\", fontsize = 18)"
   ]
  },
  {
   "cell_type": "markdown",
   "metadata": {},
   "source": [
    "### Adding colors and labels"
   ]
  },
  {
   "cell_type": "markdown",
   "metadata": {},
   "source": [
    "It can be helpful to color code certain points on a plot to understand where certain types of objects lie on your diagram. You can create masks to select certain types of points. For example, if I wanted to select all of the galaxies in `data` that have black holes measured with the method `star`, I would type:<br>"
   ]
  },
  {
   "cell_type": "code",
   "execution_count": 38,
   "metadata": {},
   "outputs": [],
   "source": [
    "star = data['Method'] == 'star'"
   ]
  },
  {
   "cell_type": "markdown",
   "metadata": {},
   "source": [
    "`star` is a mask: an array of `True` and `False` that is the same length as the full `data` array. The value of `star` is `True` where the `Method` column value is `star` and `False` where it is not. You can select rows from the array where `star` is `True` using the following command:"
   ]
  },
  {
   "cell_type": "code",
   "execution_count": 39,
   "metadata": {
    "scrolled": true
   },
   "outputs": [
    {
     "data": {
      "text/html": [
       "<div><i>Table length=47</i>\n",
       "<table id=\"table2457025299504\" class=\"table-striped table-bordered table-condensed\">\n",
       "<thead><tr><th>Name</th><th>M_*</th><th>SFR</th><th>M_BH</th><th>MBH Error</th><th>Method</th></tr></thead>\n",
       "<thead><tr><th>str11</th><th>float64</th><th>float64</th><th>float64</th><th>float64</th><th>str9</th></tr></thead>\n",
       "<tr><td>Centaurus A</td><td>10.904</td><td>0.213</td><td>7.755</td><td>0.084</td><td>star</td></tr>\n",
       "<tr><td>IC 1459</td><td>11.381</td><td>-0.611</td><td>9.394</td><td>0.079</td><td>star</td></tr>\n",
       "<tr><td>M31</td><td>10.731</td><td>-0.519</td><td>8.155</td><td>0.161</td><td>star</td></tr>\n",
       "<tr><td>M66</td><td>10.84</td><td>0.536</td><td>6.929</td><td>0.048</td><td>star</td></tr>\n",
       "<tr><td>M87</td><td>11.519</td><td>-1.335</td><td>9.789</td><td>0.031</td><td>star</td></tr>\n",
       "<tr><td>NGC 0307</td><td>10.772</td><td>-0.567</td><td>8.602</td><td>0.06</td><td>star</td></tr>\n",
       "<tr><td>NGC 0524</td><td>11.086</td><td>-0.559</td><td>8.938</td><td>0.053</td><td>star</td></tr>\n",
       "<tr><td>NGC 0821</td><td>10.779</td><td>-1.189</td><td>8.217</td><td>0.21</td><td>star</td></tr>\n",
       "<tr><td>NGC 1023</td><td>10.756</td><td>-0.73</td><td>7.616</td><td>0.055</td><td>star</td></tr>\n",
       "<tr><td>NGC 1316</td><td>11.594</td><td>-0.187</td><td>8.176</td><td>0.254</td><td>star</td></tr>\n",
       "<tr><td>...</td><td>...</td><td>...</td><td>...</td><td>...</td><td>...</td></tr>\n",
       "<tr><td>NGC 5419</td><td>11.686</td><td>-0.767</td><td>9.86</td><td>0.144</td><td>star</td></tr>\n",
       "<tr><td>NGC 5846</td><td>11.204</td><td>-1.453</td><td>9.041</td><td>0.058</td><td>star</td></tr>\n",
       "<tr><td>NGC 6086</td><td>11.475</td><td>0.31</td><td>9.573</td><td>0.167</td><td>star</td></tr>\n",
       "<tr><td>NGC 7457</td><td>10.107</td><td>-1.869</td><td>6.954</td><td>0.302</td><td>star</td></tr>\n",
       "<tr><td>NGC 7619</td><td>11.395</td><td>-0.353</td><td>9.398</td><td>0.108</td><td>star</td></tr>\n",
       "<tr><td>NGC 7768</td><td>11.576</td><td>0.151</td><td>9.127</td><td>0.181</td><td>star</td></tr>\n",
       "<tr><td>NGC 1600</td><td>12.175</td><td>-0.077</td><td>10.23</td><td>0.04</td><td>star</td></tr>\n",
       "<tr><td>NGC 3706</td><td>11.361</td><td>-1.002</td><td>9.77</td><td>0.06</td><td>star</td></tr>\n",
       "<tr><td>NGC 4742</td><td>10.226</td><td>-1.175</td><td>7.1</td><td>0.15</td><td>star</td></tr>\n",
       "<tr><td>NGC 7332</td><td>10.656</td><td>-1.279</td><td>7.08</td><td>0.18</td><td>star</td></tr>\n",
       "</table></div>"
      ],
      "text/plain": [
       "<Table length=47>\n",
       "    Name      M_*     SFR     M_BH  MBH Error Method\n",
       "   str11    float64 float64 float64  float64   str9 \n",
       "----------- ------- ------- ------- --------- ------\n",
       "Centaurus A  10.904   0.213   7.755     0.084   star\n",
       "    IC 1459  11.381  -0.611   9.394     0.079   star\n",
       "        M31  10.731  -0.519   8.155     0.161   star\n",
       "        M66   10.84   0.536   6.929     0.048   star\n",
       "        M87  11.519  -1.335   9.789     0.031   star\n",
       "   NGC 0307  10.772  -0.567   8.602      0.06   star\n",
       "   NGC 0524  11.086  -0.559   8.938     0.053   star\n",
       "   NGC 0821  10.779  -1.189   8.217      0.21   star\n",
       "   NGC 1023  10.756   -0.73   7.616     0.055   star\n",
       "   NGC 1316  11.594  -0.187   8.176     0.254   star\n",
       "        ...     ...     ...     ...       ...    ...\n",
       "   NGC 5419  11.686  -0.767    9.86     0.144   star\n",
       "   NGC 5846  11.204  -1.453   9.041     0.058   star\n",
       "   NGC 6086  11.475    0.31   9.573     0.167   star\n",
       "   NGC 7457  10.107  -1.869   6.954     0.302   star\n",
       "   NGC 7619  11.395  -0.353   9.398     0.108   star\n",
       "   NGC 7768  11.576   0.151   9.127     0.181   star\n",
       "   NGC 1600  12.175  -0.077   10.23      0.04   star\n",
       "   NGC 3706  11.361  -1.002    9.77      0.06   star\n",
       "   NGC 4742  10.226  -1.175     7.1      0.15   star\n",
       "   NGC 7332  10.656  -1.279    7.08      0.18   star"
      ]
     },
     "execution_count": 39,
     "metadata": {},
     "output_type": "execute_result"
    }
   ],
   "source": [
    "data[star]"
   ]
  },
  {
   "cell_type": "markdown",
   "metadata": {},
   "source": [
    "If you just want to plot out the values in the `SFR` column for the galaxies with `Method = star`, you could type:"
   ]
  },
  {
   "cell_type": "code",
   "execution_count": 40,
   "metadata": {},
   "outputs": [
    {
     "data": {
      "text/html": [
       "&lt;Column name=&apos;SFR&apos; dtype=&apos;float64&apos; length=47&gt;\n",
       "<table>\n",
       "<tr><td>0.213</td></tr>\n",
       "<tr><td>-0.611</td></tr>\n",
       "<tr><td>-0.519</td></tr>\n",
       "<tr><td>0.536</td></tr>\n",
       "<tr><td>-1.335</td></tr>\n",
       "<tr><td>-0.567</td></tr>\n",
       "<tr><td>-0.559</td></tr>\n",
       "<tr><td>-1.189</td></tr>\n",
       "<tr><td>-0.73</td></tr>\n",
       "<tr><td>-0.187</td></tr>\n",
       "<tr><td>-0.739</td></tr>\n",
       "<tr><td>-0.067</td></tr>\n",
       "<tr><td>...</td></tr>\n",
       "<tr><td>-0.08</td></tr>\n",
       "<tr><td>-0.39</td></tr>\n",
       "<tr><td>-0.767</td></tr>\n",
       "<tr><td>-1.453</td></tr>\n",
       "<tr><td>0.31</td></tr>\n",
       "<tr><td>-1.869</td></tr>\n",
       "<tr><td>-0.353</td></tr>\n",
       "<tr><td>0.151</td></tr>\n",
       "<tr><td>-0.077</td></tr>\n",
       "<tr><td>-1.002</td></tr>\n",
       "<tr><td>-1.175</td></tr>\n",
       "<tr><td>-1.279</td></tr>\n",
       "</table>"
      ],
      "text/plain": [
       "<Column name='SFR' dtype='float64' length=47>\n",
       " 0.213\n",
       "-0.611\n",
       "-0.519\n",
       " 0.536\n",
       "-1.335\n",
       "-0.567\n",
       "-0.559\n",
       "-1.189\n",
       " -0.73\n",
       "-0.187\n",
       "-0.739\n",
       "-0.067\n",
       "   ...\n",
       " -0.08\n",
       " -0.39\n",
       "-0.767\n",
       "-1.453\n",
       "  0.31\n",
       "-1.869\n",
       "-0.353\n",
       " 0.151\n",
       "-0.077\n",
       "-1.002\n",
       "-1.175\n",
       "-1.279"
      ]
     },
     "execution_count": 40,
     "metadata": {},
     "output_type": "execute_result"
    }
   ],
   "source": [
    "data['SFR'][star]"
   ]
  },
  {
   "cell_type": "markdown",
   "metadata": {},
   "source": [
    "To find out the total unique values in an array, you can use the `np.unique` function. Execute the cell below to see the unique values in the `Method` column:"
   ]
  },
  {
   "cell_type": "code",
   "execution_count": 41,
   "metadata": {},
   "outputs": [
    {
     "data": {
      "text/html": [
       "&lt;Column name=&apos;Method&apos; dtype=&apos;str9&apos; length=6&gt;\n",
       "<table>\n",
       "<tr><td>CO</td></tr>\n",
       "<tr><td>RM</td></tr>\n",
       "<tr><td>gas</td></tr>\n",
       "<tr><td>maser</td></tr>\n",
       "<tr><td>star</td></tr>\n",
       "<tr><td>star, gas</td></tr>\n",
       "</table>"
      ],
      "text/plain": [
       "<Column name='Method' dtype='str9' length=6>\n",
       "       CO\n",
       "       RM\n",
       "      gas\n",
       "    maser\n",
       "     star\n",
       "star, gas"
      ]
     },
     "execution_count": 41,
     "metadata": {},
     "output_type": "execute_result"
    }
   ],
   "source": [
    "np.unique(data['Method'])"
   ]
  },
  {
   "cell_type": "markdown",
   "metadata": {},
   "source": [
    "**5)** Create a scatter plot with the stellar mass on the X-axis and the black hole mass on the Y-axis (using either the `scatter` or `plot` command, whichever you prefer) where the points are color coded by their measurement method. Make sure to add a label for each set of points and include a legend on your plot. *Make sure to label your axes!*"
   ]
  },
  {
   "cell_type": "code",
   "execution_count": 65,
   "metadata": {},
   "outputs": [
    {
     "data": {
      "text/plain": [
       "<matplotlib.legend.Legend at 0x23c173c6490>"
      ]
     },
     "execution_count": 65,
     "metadata": {},
     "output_type": "execute_result"
    },
    {
     "data": {
      "image/png": "[encoded data removed]",
      "text/plain": [
       "<Figure size 504x504 with 1 Axes>"
      ]
     },
     "metadata": {
      "needs_background": "light"
     },
     "output_type": "display_data"
    }
   ],
   "source": [
    "fig,ax=plt.subplots(figsize=(7,7))\n",
    "\n",
    "star = (data['Method']=='star')\n",
    "CO = (data['Method']=='CO')\n",
    "RM = (data['Method']=='RM')\n",
    "gas = (data['Method']=='gas')\n",
    "maser = (data['Method']=='maser')\n",
    "star_gas = (data['Method']=='star, gas')\n",
    "\n",
    "#Plot stellar mass vs black hole mass\n",
    "masks = [star, CO, RM, gas, maser, star_gas]\n",
    "labels = [\"star\", \"CO\", \"RM\", \"gas\", \"maser\", \"star, gas\"]\n",
    "colors = [\"red\", \"green\", \"blue\", \"yellow\", \"purple\", \"orange\"]\n",
    "for i in range(len(masks)):\n",
    "    ax.plot(data['M_*'][masks[i]], data['M_BH'][masks[i]], 'o', color=colors[i], label=labels[i])\n",
    "\n",
    "#Add axis labes\n",
    "ax.set_xlabel(\"Stellar Mass\", fontsize = 18)\n",
    "ax.set_ylabel(\"Black Hole Mass\", fontsize = 18)\n",
    "\n",
    "#Include the command to display the legend\n",
    "plt.legend()"
   ]
  },
  {
   "cell_type": "markdown",
   "metadata": {},
   "source": [
    "**Challenge**:<br>\n",
    "<br>\n",
    "Create a scatter plot that looks like the first plot in Figure 1 from the paper. Plot SFR/$M_{*}$ on the Y-axis and $M_{*}$ on the X-axis and color code the points by their value of $M_{BH}$. Include a color bar. Don't worry about error bars or the gray points or background line.<br>\n",
    "*Hint: check out the example on [this stack overflow page](https://stackoverflow.com/questions/6063876/matplotlib-colorbar-for-scatter)*<br>\n",
    "*Another hint, when using a colormap, you need to set `vmin` and `vmax` values. A good way to set these is for `vmin` to by the minimum value of the array you're using to color code and `vmax` is the maximum value of that array. You can find the minimum value of an array with `numpy` using the `np.amin(array)` function and find the max with the `np.amax` function.*<br>\n",
    "*Ok, last hint: if you really want your color map to look like the one in the paper, check out [this page](https://matplotlib.org/3.1.0/tutorials/colors/colormaps.html) from `matplotlib` that shows what all their color maps look like and choose one that looks like the one in the paper. I'm sure this plot was made with python so you should be able to find the exact same one!*"
   ]
  },
  {
   "cell_type": "code",
   "execution_count": null,
   "metadata": {},
   "outputs": [],
   "source": []
  }
 ],
 "metadata": {
  "kernelspec": {
   "display_name": "Python 3 (ipykernel)",
   "language": "python",
   "name": "python3"
  },
  "language_info": {
   "codemirror_mode": {
    "name": "ipython",
    "version": 3
   },
   "file_extension": ".py",
   "mimetype": "text/x-python",
   "name": "python",
   "nbconvert_exporter": "python",
   "pygments_lexer": "ipython3",
   "version": "3.9.2"
  }
 },
 "nbformat": 4,
 "nbformat_minor": 2
}
